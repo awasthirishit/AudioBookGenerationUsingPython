{
 "cells": [
  {
   "cell_type": "code",
   "execution_count": null,
   "id": "7a833a6e",
   "metadata": {},
   "outputs": [],
   "source": [
    "#Importing  libraries\n",
    "!pip3 install newspaper3k\n",
    "!pip install nltk\n",
    "!pip install gtts"
   ]
  },
  {
   "cell_type": "code",
   "execution_count": null,
   "id": "e518086e",
   "metadata": {},
   "outputs": [],
   "source": [
    "from newspaper import Article\n",
    "import nltk\n",
    "from gtts import gTTS\n",
    "import os\n",
    "\n",
    "arc = input(\"Enter Article : \")\n",
    "article = Article(arc)"
   ]
  },
  {
   "cell_type": "code",
   "execution_count": null,
   "id": "3b39bd0f",
   "metadata": {},
   "outputs": [],
   "source": [
    "article.download()\n",
    "article.parse()\n",
    "nltk.download('punkt')\n",
    "\n"
   ]
  },
  {
   "cell_type": "code",
   "execution_count": null,
   "id": "966ab041",
   "metadata": {},
   "outputs": [],
   "source": [
    "article.nlp()"
   ]
  },
  {
   "cell_type": "code",
   "execution_count": null,
   "id": "32d6fb9e",
   "metadata": {},
   "outputs": [],
   "source": [
    "text = article.text\n",
    "print(text)\n",
    "language = 'hi' #Hindi\n",
    "tts= gTTS(text=text, lang=language, slow=False)\n",
    "tts.save(\"read.mp3\")\n",
    "os.system(\"start read.mp3\")"
   ]
  },
  {
   "cell_type": "code",
   "execution_count": null,
   "id": "2dfc32d2",
   "metadata": {},
   "outputs": [],
   "source": []
  }
 ],
 "metadata": {
  "kernelspec": {
   "display_name": "Python 3",
   "language": "python",
   "name": "python3"
  },
  "language_info": {
   "codemirror_mode": {
    "name": "ipython",
    "version": 3
   },
   "file_extension": ".py",
   "mimetype": "text/x-python",
   "name": "python",
   "nbconvert_exporter": "python",
   "pygments_lexer": "ipython3",
   "version": "3.8.8"
  }
 },
 "nbformat": 4,
 "nbformat_minor": 5
}
