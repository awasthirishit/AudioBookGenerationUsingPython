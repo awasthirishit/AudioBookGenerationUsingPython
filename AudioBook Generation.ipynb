{
 "cells": [
  {
   "cell_type": "code",
   "execution_count": 1,
   "id": "b6ffbfa8",
   "metadata": {},
   "outputs": [
    {
     "name": "stdout",
     "output_type": "stream",
     "text": [
      "Requirement already satisfied: newspaper3k in c:\\users\\lenovo\\anaconda3\\lib\\site-packages (0.2.8)\n",
      "Requirement already satisfied: lxml>=3.6.0 in c:\\users\\lenovo\\anaconda3\\lib\\site-packages (from newspaper3k) (4.6.3)\n",
      "Requirement already satisfied: feedfinder2>=0.0.4 in c:\\users\\lenovo\\anaconda3\\lib\\site-packages (from newspaper3k) (0.0.4)\n",
      "Requirement already satisfied: python-dateutil>=2.5.3 in c:\\users\\lenovo\\anaconda3\\lib\\site-packages (from newspaper3k) (2.8.1)\n",
      "Requirement already satisfied: nltk>=3.2.1 in c:\\users\\lenovo\\anaconda3\\lib\\site-packages (from newspaper3k) (3.6.1)\n",
      "Requirement already satisfied: jieba3k>=0.35.1 in c:\\users\\lenovo\\anaconda3\\lib\\site-packages (from newspaper3k) (0.35.1)\n",
      "Requirement already satisfied: feedparser>=5.2.1 in c:\\users\\lenovo\\anaconda3\\lib\\site-packages (from newspaper3k) (6.0.8)\n",
      "Requirement already satisfied: tinysegmenter==0.3 in c:\\users\\lenovo\\anaconda3\\lib\\site-packages (from newspaper3k) (0.3)\n",
      "Requirement already satisfied: beautifulsoup4>=4.4.1 in c:\\users\\lenovo\\anaconda3\\lib\\site-packages (from newspaper3k) (4.9.3)\n",
      "Requirement already satisfied: requests>=2.10.0 in c:\\users\\lenovo\\anaconda3\\lib\\site-packages (from newspaper3k) (2.25.1)\n",
      "Requirement already satisfied: tldextract>=2.0.1 in c:\\users\\lenovo\\anaconda3\\lib\\site-packages (from newspaper3k) (3.1.2)\n",
      "Requirement already satisfied: PyYAML>=3.11 in c:\\users\\lenovo\\anaconda3\\lib\\site-packages (from newspaper3k) (5.4.1)\n",
      "Requirement already satisfied: Pillow>=3.3.0 in c:\\users\\lenovo\\anaconda3\\lib\\site-packages (from newspaper3k) (8.2.0)\n",
      "Requirement already satisfied: cssselect>=0.9.2 in c:\\users\\lenovo\\anaconda3\\lib\\site-packages (from newspaper3k) (1.1.0)\n",
      "Requirement already satisfied: soupsieve>1.2 in c:\\users\\lenovo\\anaconda3\\lib\\site-packages (from beautifulsoup4>=4.4.1->newspaper3k) (2.2.1)\n",
      "Requirement already satisfied: six in c:\\users\\lenovo\\anaconda3\\lib\\site-packages (from feedfinder2>=0.0.4->newspaper3k) (1.15.0)\n",
      "Requirement already satisfied: sgmllib3k in c:\\users\\lenovo\\anaconda3\\lib\\site-packages (from feedparser>=5.2.1->newspaper3k) (1.0.0)\n",
      "Requirement already satisfied: tqdm in c:\\users\\lenovo\\anaconda3\\lib\\site-packages (from nltk>=3.2.1->newspaper3k) (4.59.0)\n",
      "Requirement already satisfied: joblib in c:\\users\\lenovo\\anaconda3\\lib\\site-packages (from nltk>=3.2.1->newspaper3k) (1.0.1)\n",
      "Requirement already satisfied: click in c:\\users\\lenovo\\anaconda3\\lib\\site-packages (from nltk>=3.2.1->newspaper3k) (7.1.2)\n",
      "Requirement already satisfied: regex in c:\\users\\lenovo\\anaconda3\\lib\\site-packages (from nltk>=3.2.1->newspaper3k) (2021.4.4)\n",
      "Requirement already satisfied: idna<3,>=2.5 in c:\\users\\lenovo\\anaconda3\\lib\\site-packages (from requests>=2.10.0->newspaper3k) (2.10)\n",
      "Requirement already satisfied: urllib3<1.27,>=1.21.1 in c:\\users\\lenovo\\anaconda3\\lib\\site-packages (from requests>=2.10.0->newspaper3k) (1.26.4)\n",
      "Requirement already satisfied: certifi>=2017.4.17 in c:\\users\\lenovo\\anaconda3\\lib\\site-packages (from requests>=2.10.0->newspaper3k) (2020.12.5)\n",
      "Requirement already satisfied: chardet<5,>=3.0.2 in c:\\users\\lenovo\\anaconda3\\lib\\site-packages (from requests>=2.10.0->newspaper3k) (4.0.0)\n",
      "Requirement already satisfied: requests-file>=1.4 in c:\\users\\lenovo\\anaconda3\\lib\\site-packages (from tldextract>=2.0.1->newspaper3k) (1.5.1)\n",
      "Requirement already satisfied: filelock>=3.0.8 in c:\\users\\lenovo\\anaconda3\\lib\\site-packages (from tldextract>=2.0.1->newspaper3k) (3.0.12)\n",
      "Requirement already satisfied: nltk in c:\\users\\lenovo\\anaconda3\\lib\\site-packages (3.6.1)\n",
      "Requirement already satisfied: click in c:\\users\\lenovo\\anaconda3\\lib\\site-packages (from nltk) (7.1.2)\n",
      "Requirement already satisfied: joblib in c:\\users\\lenovo\\anaconda3\\lib\\site-packages (from nltk) (1.0.1)\n",
      "Requirement already satisfied: regex in c:\\users\\lenovo\\anaconda3\\lib\\site-packages (from nltk) (2021.4.4)\n",
      "Requirement already satisfied: tqdm in c:\\users\\lenovo\\anaconda3\\lib\\site-packages (from nltk) (4.59.0)\n",
      "Requirement already satisfied: gtts in c:\\users\\lenovo\\anaconda3\\lib\\site-packages (2.2.3)\n",
      "Requirement already satisfied: requests in c:\\users\\lenovo\\anaconda3\\lib\\site-packages (from gtts) (2.25.1)\n",
      "Requirement already satisfied: six in c:\\users\\lenovo\\anaconda3\\lib\\site-packages (from gtts) (1.15.0)\n",
      "Requirement already satisfied: click in c:\\users\\lenovo\\anaconda3\\lib\\site-packages (from gtts) (7.1.2)\n",
      "Requirement already satisfied: chardet<5,>=3.0.2 in c:\\users\\lenovo\\anaconda3\\lib\\site-packages (from requests->gtts) (4.0.0)\n",
      "Requirement already satisfied: certifi>=2017.4.17 in c:\\users\\lenovo\\anaconda3\\lib\\site-packages (from requests->gtts) (2020.12.5)\n",
      "Requirement already satisfied: idna<3,>=2.5 in c:\\users\\lenovo\\anaconda3\\lib\\site-packages (from requests->gtts) (2.10)\n",
      "Requirement already satisfied: urllib3<1.27,>=1.21.1 in c:\\users\\lenovo\\anaconda3\\lib\\site-packages (from requests->gtts) (1.26.4)\n"
     ]
    }
   ],
   "source": [
    "#Importing  libraries\n",
    "!pip3 install newspaper3k\n",
    "!pip install nltk\n",
    "!pip install gtts"
   ]
  },
  {
   "cell_type": "code",
   "execution_count": 3,
   "id": "33be8a86",
   "metadata": {},
   "outputs": [
    {
     "name": "stdout",
     "output_type": "stream",
     "text": [
      "Enter Article : https://www.aajtak.in/business/news/story/adani-wilmar-ipo-allotment-gmp-grey-market-premium-falls-before-listing-date-tuts-1405231-2022-02-04\n"
     ]
    }
   ],
   "source": [
    "from newspaper import Article\n",
    "import nltk\n",
    "from gtts import gTTS\n",
    "import os\n",
    "\n",
    "arc = input(\"Enter Article : \")\n",
    "article = Article(arc)"
   ]
  },
  {
   "cell_type": "code",
   "execution_count": 4,
   "id": "8ca0b9c4",
   "metadata": {},
   "outputs": [
    {
     "name": "stderr",
     "output_type": "stream",
     "text": [
      "[nltk_data] Downloading package punkt to\n",
      "[nltk_data]     C:\\Users\\LENOVO\\AppData\\Roaming\\nltk_data...\n",
      "[nltk_data]   Package punkt is already up-to-date!\n"
     ]
    },
    {
     "data": {
      "text/plain": [
       "True"
      ]
     },
     "execution_count": 4,
     "metadata": {},
     "output_type": "execute_result"
    }
   ],
   "source": [
    "article.download()\n",
    "article.parse()\n",
    "nltk.download('punkt')\n",
    "\n"
   ]
  },
  {
   "cell_type": "code",
   "execution_count": 5,
   "id": "9e5843f8",
   "metadata": {},
   "outputs": [],
   "source": [
    "article.nlp()"
   ]
  },
  {
   "cell_type": "code",
   "execution_count": 6,
   "id": "7cd4f7ff",
   "metadata": {},
   "outputs": [
    {
     "name": "stdout",
     "output_type": "stream",
     "text": [
      "Adani Wilmar IPO GMP: अडानी समूह (Adani Group) की सब्सिडियरी अडानी विल्मर के आईपीओ (Adani Wilmar IPO) का अलॉटमेंट आज फाइनल हो गया. अब अगले सप्ताह इसके शेयर स्टॉक मार्केट में लिस्ट (Adani Wilmar Share Listing) हो जाएंगे. इससे पहले ग्रे मार्केट प्रीमियम (GMP) में शुक्रवार को भारी गिरावट देखने को मिली है. अगर मार्केट में ऐसा ही रिस्पॉन्स रहा तो इन्वेस्टर्स को मायूसी हाथ लग सकती है.\n",
      "\n",
      "टॉप से करीब 70 फीसदी गिर चुका जीएमपी\n",
      "\n",
      "आंकड़ों के अनुसार, ग्रे मार्केट में अभी अडानी विल्मर का शेयर 33 रुपये के प्रीमियम (Grey Market Premium) के साथ ट्रेड कर रहा है. एक दिन पहले इसकर जीएमपी 45 रुपये पर था. एक समय इस कंपनी को ग्रे मार्केट में 100 रुपये से ज्यादा का प्रीमियम मिला हुआ था, लेकिन प्री-बजट वीक में मार्केट में आई बड़ी गिरावट के चलते जीएमपी गिरकर 40 रुपये तक आ गया था.\n",
      "\n",
      "कंपनी ने आईपीओ से जुटाए इतने करोड़\n",
      "\n",
      "अडानी विल्मर आईपीओ 27 जनवरी को खुला था और 31 जनवरी को बंद हुआ था. इसे 17 गुना से ज्यादा सब्सक्राइब किया गया. कंपनी ने आईपीओ से पहले एंकर इन्वेस्टर्स (Anchor Investors) से 940 करोड़ रुपये जुटा लिए थे. इस आईपीओ के लिए 218 से 230 रुपये का प्राइस बैंड (Adani Wilmar IPO Price Band) तय किया गया था. कंपनी इस इश्यू से 3,600 करोड़ रुपये जुटाने में सफल रही है.\n",
      "\n",
      "अगले सप्ताह होगी स्टॉक मार्केट में लिस्टिंग\n",
      "\n",
      "आज आईपीओ के बाद शेयरों के अलॉटमेंट का ऐलान कर दिया गया. कंपनी के शेयर बीएसई और एनएसई पर 08 फरवरी को लिस्ट हो सकते हैं. अलॉटमेंट का स्टेटस ऑनलाइन चेक किया जा सकता है. स्टॉक एक्सचेंज बीएसई की वेबसाइट पर भी इसे चेक करने की सुविधा उपलब्ध है. इसके अलावा आईपीओ के रजिस्ट्रार की वेबसाइट पर भी स्टेटस को चेक किया जा सकता है. बीएसई पर चेक करने के लिए सबसे पहले इन्वेस्टर्स पर क्लिक करें. इसके बाद Status Of Issue Application पर क्लिक करें. अडानी विल्मर आईपीओ चुनें. यहां आपको पैनकार्ड के डिटेल्स देने होंगे. इसके बाद आपको स्टेटस दिख जाएगा.\n"
     ]
    },
    {
     "data": {
      "text/plain": [
       "0"
      ]
     },
     "execution_count": 6,
     "metadata": {},
     "output_type": "execute_result"
    }
   ],
   "source": [
    "text = article.text\n",
    "print(text)\n",
    "language = 'hi' #Hindi\n",
    "tts= gTTS(text=text, lang=language, slow=False)\n",
    "tts.save(\"read.mp3\")\n",
    "os.system(\"start read.mp3\")"
   ]
  },
  {
   "cell_type": "code",
   "execution_count": null,
   "id": "b18e60ac",
   "metadata": {},
   "outputs": [],
   "source": []
  }
 ],
 "metadata": {
  "kernelspec": {
   "display_name": "Python 3",
   "language": "python",
   "name": "python3"
  },
  "language_info": {
   "codemirror_mode": {
    "name": "ipython",
    "version": 3
   },
   "file_extension": ".py",
   "mimetype": "text/x-python",
   "name": "python",
   "nbconvert_exporter": "python",
   "pygments_lexer": "ipython3",
   "version": "3.8.8"
  }
 },
 "nbformat": 4,
 "nbformat_minor": 5
}
